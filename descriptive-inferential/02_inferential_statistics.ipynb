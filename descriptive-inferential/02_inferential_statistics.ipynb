{
 "cells": [
  {
   "cell_type": "markdown",
   "id": "8d111e8e",
   "metadata": {},
   "source": [
    "# 📘 02 - Inferential Statistics\n",
    "\n",
    "🔹 **Objective**: Introduce techniques to infer population-level conclusions based on sample data."
   ]
  },
  {
   "cell_type": "markdown",
   "id": "f4c6dbd8",
   "metadata": {},
   "source": [
    "## 🔍 What is Inferential Statistics?\n",
    "Inferential statistics allows us to make predictions or inferences about a population based on a sample of data."
   ]
  },
  {
   "cell_type": "markdown",
   "id": "f36550ff",
   "metadata": {},
   "source": [
    "### Descriptive vs Inferential Statistics\n",
    "- **Descriptive Statistics** summarizes the features of a dataset.\n",
    "- **Inferential Statistics** makes generalizations about a population using data from a sample."
   ]
  },
  {
   "cell_type": "markdown",
   "id": "37a12189",
   "metadata": {},
   "source": [
    "### Importance in Data-Driven Decision Making\n",
    "Companies and researchers rely on inferential methods to:\n",
    "- Make product decisions based on surveys\n",
    "- Test medical hypotheses with clinical trials\n",
    "- Predict elections based on polls"
   ]
  },
  {
   "cell_type": "markdown",
   "id": "9aeec797",
   "metadata": {},
   "source": [
    "## 🧪 Sampling\n",
    "### Sampling Methods\n",
    "- **Simple Random Sampling**: Equal chance for each data point\n",
    "- **Stratified Sampling**: Divide population into strata and sample from each\n",
    "- **Systematic Sampling**: Every nth item\n",
    "\n",
    "### Sampling Bias\n",
    "Occurs when some members of the population are less likely to be included in the sample."
   ]
  },
  {
   "cell_type": "code",
   "execution_count": null,
   "id": "a9d10a9f",
   "metadata": {},
   "outputs": [],
   "source": [
    "import numpy as np\n",
    "import pandas as pd\n",
    "np.random.seed(42)\n",
    "\n",
    "# Simulate a population\n",
    "population = np.random.normal(loc=50, scale=10, size=10000)\n",
    "\n",
    "# Simple random sample\n",
    "sample = np.random.choice(population, size=100, replace=False)\n",
    "\n",
    "print(\"Population Mean:\", np.mean(population))\n",
    "print(\"Sample Mean:\", np.mean(sample))"
   ]
  },
  {
   "cell_type": "markdown",
   "id": "b734528d",
   "metadata": {},
   "source": [
    "## 📊 Central Limit Theorem (CLT)\n",
    "The CLT states that the distribution of sample means approaches a normal distribution as the sample size increases, regardless of the population's distribution."
   ]
  },
  {
   "cell_type": "code",
   "execution_count": null,
   "id": "329d3b47",
   "metadata": {},
   "outputs": [],
   "source": [
    "import matplotlib.pyplot as plt\n",
    "\n",
    "sample_means = []\n",
    "for _ in range(1000):\n",
    "    sample = np.random.choice(population, size=50, replace=True)\n",
    "    sample_means.append(np.mean(sample))\n",
    "\n",
    "plt.hist(sample_means, bins=30, edgecolor='black')\n",
    "plt.title(\"Sampling Distribution of the Mean\")\n",
    "plt.xlabel(\"Sample Mean\")\n",
    "plt.ylabel(\"Frequency\")\n",
    "plt.show()"
   ]
  },
  {
   "cell_type": "markdown",
   "id": "03cf7413",
   "metadata": {},
   "source": [
    "## 📐 Estimators\n",
    "- **Point Estimate**: A single value estimate of a population parameter (e.g., sample mean).\n",
    "- **Interval Estimate**: A range likely to contain the parameter (e.g., confidence interval).\n",
    "\n",
    "### Standard Error\n",
    "Standard deviation of the sampling distribution of the mean."
   ]
  },
  {
   "cell_type": "code",
   "execution_count": null,
   "id": "7100f27f",
   "metadata": {},
   "outputs": [],
   "source": [
    "std_error = np.std(sample) / np.sqrt(len(sample))\n",
    "print(\"Standard Error:\", std_error)"
   ]
  },
  {
   "cell_type": "markdown",
   "id": "67cec166",
   "metadata": {},
   "source": [
    "## 📏 Confidence Intervals\n",
    "A confidence interval gives a range of plausible values for the population parameter.\n",
    "\n",
    "- **95% CI**: ~95% chance the true mean lies in this interval\n",
    "- **99% CI**: Wider range, more confidence"
   ]
  },
  {
   "cell_type": "code",
   "execution_count": null,
   "id": "86cf1699",
   "metadata": {},
   "outputs": [],
   "source": [
    "import scipy.stats as stats\n",
    "\n",
    "mean = np.mean(sample)\n",
    "se = stats.sem(sample)\n",
    "ci_95 = stats.t.interval(0.95, df=len(sample)-1, loc=mean, scale=se)\n",
    "ci_99 = stats.t.interval(0.99, df=len(sample)-1, loc=mean, scale=se)\n",
    "\n",
    "print(\"95% Confidence Interval:\", ci_95)\n",
    "print(\"99% Confidence Interval:\", ci_99)"
   ]
  },
  {
   "cell_type": "code",
   "execution_count": null,
   "id": "72d60c85",
   "metadata": {},
   "outputs": [],
   "source": [
    "plt.figure(figsize=(8, 4))\n",
    "plt.axvline(ci_95[0], color='red', linestyle='--', label='95% CI lower')\n",
    "plt.axvline(ci_95[1], color='red', linestyle='--', label='95% CI upper')\n",
    "plt.axvline(mean, color='green', label='Sample Mean')\n",
    "plt.title(\"95% Confidence Interval\")\n",
    "plt.legend()\n",
    "plt.show()"
   ]
  },
  {
   "cell_type": "markdown",
   "id": "7437ec87",
   "metadata": {},
   "source": [
    "## 🧪 Basics of Hypothesis Testing (Preview)\n",
    "- **Null Hypothesis (H0)**: No effect or difference\n",
    "- **Alternative Hypothesis (H1)**: There is an effect or difference\n",
    "- **Type I Error (α)**: Rejecting H0 when it's true\n",
    "- **Type II Error (β)**: Not rejecting H0 when it's false"
   ]
  },
  {
   "cell_type": "markdown",
   "id": "d5d703a1",
   "metadata": {},
   "source": [
    "### p-value Intuition\n",
    "The p-value is the probability of obtaining test results at least as extreme as the observed results, assuming the null hypothesis is true.\n",
    "\n",
    "> Low p-value (< 0.05) → reject H0\n",
    "> High p-value → fail to reject H0"
   ]
  },
  {
   "cell_type": "markdown",
   "id": "cf1d28fe",
   "metadata": {},
   "source": [
    "## 🧪 Practice Exercises\n",
    "1. Simulate 100 samples of size 30 from a population and plot the sampling distribution.\n",
    "2. Compute 95% and 99% confidence intervals for each sample.\n",
    "3. Estimate the probability of sample means falling outside the CI."
   ]
  }
 ],
 "metadata": {},
 "nbformat": 4,
 "nbformat_minor": 5
}