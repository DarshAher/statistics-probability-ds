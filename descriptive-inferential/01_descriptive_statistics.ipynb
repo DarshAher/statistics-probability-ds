{
 "cells": [
  {
   "cell_type": "markdown",
   "id": "201a5ac8",
   "metadata": {},
   "source": [
    "# 📘 01 - Descriptive Statistics\n",
    "\n",
    "🔹 **Objective**: Explain how to summarize and describe the main features of a dataset."
   ]
  },
  {
   "cell_type": "markdown",
   "id": "41c084fa",
   "metadata": {},
   "source": [
    "## 🔍 Introduction to Descriptive Statistics\n",
    "\n",
    "Descriptive statistics is the branch of statistics that deals with summarizing and organizing data so it can be easily understood."
   ]
  },
  {
   "cell_type": "markdown",
   "id": "f4ea55e4",
   "metadata": {},
   "source": [
    "### What is Descriptive Statistics?\n",
    "Descriptive statistics involves techniques such as:\n",
    "- Measures of central tendency (mean, median, mode)\n",
    "- Measures of dispersion (range, variance, standard deviation)\n",
    "- Graphical representations (histograms, box plots)\n",
    "\n",
    "### Descriptive vs Inferential Statistics\n",
    "- **Descriptive**: Summarize or describe the characteristics of a dataset.\n",
    "- **Inferential**: Use a sample of data to make inferences or generalizations about a population."
   ]
  },
  {
   "cell_type": "markdown",
   "id": "76753131",
   "metadata": {},
   "source": [
    "## 📏 Measures of Central Tendency\n",
    "We describe data using:\n",
    "- **Mean**: The average\n",
    "- **Median**: The middle value\n",
    "- **Mode**: The most frequent value\n",
    "\n",
    "We will use a sample salary dataset to explore these concepts."
   ]
  },
  {
   "cell_type": "code",
   "execution_count": null,
   "id": "130deb82",
   "metadata": {},
   "outputs": [],
   "source": [
    "import pandas as pd\n",
    "import numpy as np\n",
    "import seaborn as sns\n",
    "import matplotlib.pyplot as plt\n",
    "\n",
    "# Sample dataset\n",
    "np.random.seed(42)\n",
    "salaries = pd.Series(np.append(np.random.normal(50000, 8000, 95), [100000, 120000, 130000, 150000, 200000]))\n",
    "\n",
    "print(\"Mean:\", salaries.mean())\n",
    "print(\"Median:\", salaries.median())\n",
    "print(\"Mode:\", salaries.mode().values)"
   ]
  },
  {
   "cell_type": "markdown",
   "id": "f28d628d",
   "metadata": {},
   "source": [
    "### Handling Skewed Data\n",
    "In a skewed distribution, the mean is pulled in the direction of the skew.\n",
    "- Right skew (positive): Mean > Median\n",
    "- Left skew (negative): Mean < Median"
   ]
  },
  {
   "cell_type": "markdown",
   "id": "f74735f4",
   "metadata": {},
   "source": [
    "## 📊 Measures of Dispersion\n",
    "- **Range**: Difference between max and min\n",
    "- **Variance**: Average squared deviation from the mean\n",
    "- **Standard Deviation**: Square root of variance\n",
    "- **Interquartile Range (IQR)**: Difference between Q3 and Q1"
   ]
  },
  {
   "cell_type": "code",
   "execution_count": null,
   "id": "d1629c0f",
   "metadata": {},
   "outputs": [],
   "source": [
    "print(\"Range:\", salaries.max() - salaries.min())\n",
    "print(\"Variance:\", salaries.var())\n",
    "print(\"Standard Deviation:\", salaries.std())\n",
    "print(\"IQR:\", salaries.quantile(0.75) - salaries.quantile(0.25))"
   ]
  },
  {
   "cell_type": "markdown",
   "id": "eed279b4",
   "metadata": {},
   "source": [
    "## 📈 Visualizing Distributions\n",
    "We’ll use boxplots, histograms, and violin plots to visually understand distribution and dispersion."
   ]
  },
  {
   "cell_type": "code",
   "execution_count": null,
   "id": "e36ad57f",
   "metadata": {},
   "outputs": [],
   "source": [
    "# Histogram\n",
    "sns.histplot(salaries, kde=False)\n",
    "plt.title(\"Histogram of Salaries\")\n",
    "plt.xlabel(\"Salary\")\n",
    "plt.show()"
   ]
  },
  {
   "cell_type": "code",
   "execution_count": null,
   "id": "59307e8d",
   "metadata": {},
   "outputs": [],
   "source": [
    "# Boxplot\n",
    "sns.boxplot(x=salaries)\n",
    "plt.title(\"Boxplot of Salaries\")\n",
    "plt.show()"
   ]
  },
  {
   "cell_type": "code",
   "execution_count": null,
   "id": "11427f87",
   "metadata": {},
   "outputs": [],
   "source": [
    "# Violin plot\n",
    "sns.violinplot(x=salaries)\n",
    "plt.title(\"Violin Plot of Salaries\")\n",
    "plt.show()"
   ]
  },
  {
   "cell_type": "code",
   "execution_count": null,
   "id": "b3b9827b",
   "metadata": {},
   "outputs": [],
   "source": [
    "# KDE plot\n",
    "sns.kdeplot(salaries)\n",
    "plt.title(\"KDE Plot of Salaries\")\n",
    "plt.xlabel(\"Salary\")\n",
    "plt.show()"
   ]
  },
  {
   "cell_type": "markdown",
   "id": "74075265",
   "metadata": {},
   "source": [
    "## 🧬 Shape of Distributions\n",
    "- **Skewness**: Measure of asymmetry\n",
    "- **Kurtosis**: Measure of tailedness\n",
    "- Use these metrics to assess outliers and normality."
   ]
  },
  {
   "cell_type": "code",
   "execution_count": null,
   "id": "2ec1cab3",
   "metadata": {},
   "outputs": [],
   "source": [
    "print(\"Skewness:\", salaries.skew())\n",
    "print(\"Kurtosis:\", salaries.kurt())"
   ]
  },
  {
   "cell_type": "markdown",
   "id": "90e823f6",
   "metadata": {},
   "source": [
    "## 📋 Summary Functions with pandas"
   ]
  },
  {
   "cell_type": "code",
   "execution_count": null,
   "id": "1a4766bb",
   "metadata": {},
   "outputs": [],
   "source": [
    "salaries.describe()"
   ]
  },
  {
   "cell_type": "markdown",
   "id": "37d223ca",
   "metadata": {},
   "source": [
    "## 🧪 Practice Exercises\n",
    "1. Create a new Series of student scores and calculate all measures discussed above.\n",
    "2. Visualize it with histogram and boxplot.\n",
    "3. Check for skewness and interpret."
   ]
  }
 ],
 "metadata": {},
 "nbformat": 4,
 "nbformat_minor": 5
}